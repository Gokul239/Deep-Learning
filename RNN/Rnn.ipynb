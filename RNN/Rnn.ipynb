{
 "cells": [
  {
   "cell_type": "markdown",
   "id": "63467821",
   "metadata": {},
   "source": [
    "RNN & LSTM on amazon food reviews dataset"
   ]
  },
  {
   "cell_type": "code",
   "execution_count": 1,
   "id": "48bd7054",
   "metadata": {},
   "outputs": [],
   "source": [
    "# Importing the basic packages to handle data\n",
    "import warnings\n",
    "warnings.filterwarnings(\"ignore\")\n",
    "import numpy as np \n",
    "import pandas as pd \n",
    "import kagglehub\n",
    "import os"
   ]
  },
  {
   "cell_type": "code",
   "execution_count": 2,
   "id": "d13dabb7",
   "metadata": {},
   "outputs": [],
   "source": [
    "# Downloading the csv file from kagglehub and reading as Dataframe\n",
    "\n",
    "path = kagglehub.dataset_download('snap/amazon-fine-food-reviews')\n",
    "df = pd.read_csv(os.path.join(path, 'Reviews.csv'))"
   ]
  },
  {
   "cell_type": "code",
   "execution_count": 3,
   "id": "87d6496c",
   "metadata": {},
   "outputs": [
    {
     "data": {
      "text/html": [
       "<div>\n",
       "<style scoped>\n",
       "    .dataframe tbody tr th:only-of-type {\n",
       "        vertical-align: middle;\n",
       "    }\n",
       "\n",
       "    .dataframe tbody tr th {\n",
       "        vertical-align: top;\n",
       "    }\n",
       "\n",
       "    .dataframe thead th {\n",
       "        text-align: right;\n",
       "    }\n",
       "</style>\n",
       "<table border=\"1\" class=\"dataframe\">\n",
       "  <thead>\n",
       "    <tr style=\"text-align: right;\">\n",
       "      <th></th>\n",
       "      <th>Id</th>\n",
       "      <th>ProductId</th>\n",
       "      <th>UserId</th>\n",
       "      <th>ProfileName</th>\n",
       "      <th>HelpfulnessNumerator</th>\n",
       "      <th>HelpfulnessDenominator</th>\n",
       "      <th>Score</th>\n",
       "      <th>Time</th>\n",
       "      <th>Summary</th>\n",
       "      <th>Text</th>\n",
       "    </tr>\n",
       "  </thead>\n",
       "  <tbody>\n",
       "    <tr>\n",
       "      <th>0</th>\n",
       "      <td>1</td>\n",
       "      <td>B001E4KFG0</td>\n",
       "      <td>A3SGXH7AUHU8GW</td>\n",
       "      <td>delmartian</td>\n",
       "      <td>1</td>\n",
       "      <td>1</td>\n",
       "      <td>5</td>\n",
       "      <td>1303862400</td>\n",
       "      <td>Good Quality Dog Food</td>\n",
       "      <td>I have bought several of the Vitality canned d...</td>\n",
       "    </tr>\n",
       "    <tr>\n",
       "      <th>1</th>\n",
       "      <td>2</td>\n",
       "      <td>B00813GRG4</td>\n",
       "      <td>A1D87F6ZCVE5NK</td>\n",
       "      <td>dll pa</td>\n",
       "      <td>0</td>\n",
       "      <td>0</td>\n",
       "      <td>1</td>\n",
       "      <td>1346976000</td>\n",
       "      <td>Not as Advertised</td>\n",
       "      <td>Product arrived labeled as Jumbo Salted Peanut...</td>\n",
       "    </tr>\n",
       "  </tbody>\n",
       "</table>\n",
       "</div>"
      ],
      "text/plain": [
       "   Id   ProductId          UserId ProfileName  HelpfulnessNumerator  \\\n",
       "0   1  B001E4KFG0  A3SGXH7AUHU8GW  delmartian                     1   \n",
       "1   2  B00813GRG4  A1D87F6ZCVE5NK      dll pa                     0   \n",
       "\n",
       "   HelpfulnessDenominator  Score        Time                Summary  \\\n",
       "0                       1      5  1303862400  Good Quality Dog Food   \n",
       "1                       0      1  1346976000      Not as Advertised   \n",
       "\n",
       "                                                Text  \n",
       "0  I have bought several of the Vitality canned d...  \n",
       "1  Product arrived labeled as Jumbo Salted Peanut...  "
      ]
     },
     "execution_count": 3,
     "metadata": {},
     "output_type": "execute_result"
    }
   ],
   "source": [
    "df.head(2) # Top 2 data"
   ]
  },
  {
   "cell_type": "code",
   "execution_count": 4,
   "id": "abadaea6",
   "metadata": {},
   "outputs": [],
   "source": [
    "# We're going ti use only Text and Score column for now. \n",
    "\n",
    "df_copy = df[['Score', 'Text']]"
   ]
  },
  {
   "cell_type": "code",
   "execution_count": 5,
   "id": "01f093e7",
   "metadata": {},
   "outputs": [
    {
     "name": "stdout",
     "output_type": "stream",
     "text": [
      "<class 'pandas.core.frame.DataFrame'>\n",
      "RangeIndex: 568454 entries, 0 to 568453\n",
      "Data columns (total 2 columns):\n",
      " #   Column  Non-Null Count   Dtype \n",
      "---  ------  --------------   ----- \n",
      " 0   Score   568454 non-null  int64 \n",
      " 1   Text    568454 non-null  object\n",
      "dtypes: int64(1), object(1)\n",
      "memory usage: 8.7+ MB\n"
     ]
    }
   ],
   "source": [
    "df_copy.info()"
   ]
  },
  {
   "cell_type": "code",
   "execution_count": 6,
   "id": "dea19449",
   "metadata": {},
   "outputs": [
    {
     "name": "stdout",
     "output_type": "stream",
     "text": [
      "Total 0  is 9.19\n",
      "Total 1  is 5.24\n",
      "Total 2  is 7.5\n",
      "Total 3  is 14.19\n",
      "Total 4  is 63.88\n"
     ]
    }
   ],
   "source": [
    "# Score counts\n",
    "\n",
    "score_count = df_copy.Score.value_counts().sort_index()\n",
    "\n",
    "for star, count in enumerate(score_count):\n",
    "    print(f'Total {star}  is {round(count/len(df_copy)*100, 2)}')"
   ]
  },
  {
   "cell_type": "code",
   "execution_count": 7,
   "id": "1d9b3b18",
   "metadata": {},
   "outputs": [],
   "source": [
    "# 3 is neutral rating so, considering below 3 as negative rating and above as positive\n",
    "df_copy = df_copy[df_copy.Score !=3]\n",
    "df_copy['Sentiment'] = (df_copy.Score >3).astype('int32')"
   ]
  },
  {
   "cell_type": "code",
   "execution_count": 8,
   "id": "08a51237",
   "metadata": {},
   "outputs": [
    {
     "data": {
      "text/plain": [
       "Sentiment\n",
       "1    443777\n",
       "0     82037\n",
       "Name: count, dtype: int64"
      ]
     },
     "execution_count": 8,
     "metadata": {},
     "output_type": "execute_result"
    }
   ],
   "source": [
    "df_copy.Sentiment.value_counts()"
   ]
  },
  {
   "cell_type": "code",
   "execution_count": 9,
   "id": "e796dd68",
   "metadata": {},
   "outputs": [],
   "source": [
    "# Sample is not balance. \n",
    "\n",
    "from sklearn.utils import resample"
   ]
  },
  {
   "cell_type": "code",
   "execution_count": 10,
   "id": "44b8b7c3",
   "metadata": {},
   "outputs": [],
   "source": [
    "positive_reviews = df_copy[df_copy.Sentiment == 1]\n",
    "negative_reviews = df_copy[df_copy.Sentiment == 0]\n",
    "\n",
    "positive_downsample = resample(positive_reviews, replace=False, n_samples=len(negative_reviews), random_state=42)\n",
    "\n",
    "df_balanced = pd.concat([positive_downsample, negative_reviews])\n",
    "df_balanced = df_balanced.sample(frac=1, random_state = 50).reset_index(drop=True) # Shuffling the dataset"
   ]
  },
  {
   "cell_type": "code",
   "execution_count": 11,
   "id": "557edf2d",
   "metadata": {},
   "outputs": [
    {
     "data": {
      "text/plain": [
       "Sentiment\n",
       "0    82037\n",
       "1    82037\n",
       "Name: count, dtype: int64"
      ]
     },
     "execution_count": 11,
     "metadata": {},
     "output_type": "execute_result"
    }
   ],
   "source": [
    "# Balnaced Dataset\n",
    "df_balanced.Sentiment.value_counts()"
   ]
  },
  {
   "cell_type": "code",
   "execution_count": 19,
   "id": "ab0328cd",
   "metadata": {},
   "outputs": [],
   "source": [
    "import re\n",
    "def clean_text(text):\n",
    "    text = text.lower()\n",
    "    text = re.sub(r'[^a-z\\s]', '', text)\n",
    "    text = ' '.join(text.split())\n",
    "    return text"
   ]
  },
  {
   "cell_type": "code",
   "execution_count": 20,
   "id": "719f5db6",
   "metadata": {},
   "outputs": [],
   "source": [
    "df_balanced.Text = df_balanced.Text.apply(clean_text)"
   ]
  },
  {
   "cell_type": "code",
   "execution_count": 22,
   "id": "8dd6fe37",
   "metadata": {},
   "outputs": [],
   "source": [
    "# Importing the tensorflow packages to build RNN architicutre \n",
    "from tensorflow.keras.preprocessing.text import Tokenizer\n",
    "from tensorflow.keras.preprocessing.sequence import pad_sequences\n",
    "from tensorflow.keras.models import Sequential\n",
    "from tensorflow.keras.layers import Dense, Embedding, Dropout, SimpleRNN, LSTM\n",
    "from tensorflow.keras.callbacks import EarlyStopping"
   ]
  },
  {
   "cell_type": "code",
   "execution_count": 25,
   "id": "faf213da",
   "metadata": {},
   "outputs": [],
   "source": [
    "# Defining vocobulary size and length of padding\n",
    "voc_size = 10000\n",
    "max_len = 100\n",
    "\n",
    "tokenizer = Tokenizer(num_words = voc_size, oov_token = '<OOV>')\n",
    "\n",
    "X = df_balanced['Text'].values\n",
    "Y = df_balanced['Sentiment'].values\n",
    "\n",
    "tokenizer.fit_on_texts(X)\n",
    "x_seq = tokenizer.texts_to_sequences(X)\n",
    "x_pad = pad_sequences(x_seq, maxlen = max_len, padding = 'post', truncating = 'post')"
   ]
  },
  {
   "cell_type": "code",
   "execution_count": 28,
   "id": "455eb8ca",
   "metadata": {},
   "outputs": [
    {
     "name": "stdout",
     "output_type": "stream",
     "text": [
      "Total vocobulary size 114373\n",
      "Input feature size after padding (164074, 100)\n"
     ]
    }
   ],
   "source": [
    "print(f'Total vocobulary size {len(tokenizer.word_index)}')\n",
    "print(f'Input feature size after padding {x_pad.shape}')"
   ]
  },
  {
   "cell_type": "code",
   "execution_count": 30,
   "id": "b9a67a9b",
   "metadata": {},
   "outputs": [],
   "source": [
    "from sklearn.model_selection import train_test_split\n",
    "from sklearn.metrics import accuracy_score, confusion_matrix, classification_report\n",
    "\n",
    "x_train, x_test, y_train, y_test = train_test_split(x_pad, Y, random_state=100, test_size=0.20, stratify=Y)"
   ]
  },
  {
   "cell_type": "code",
   "execution_count": 32,
   "id": "92b73555",
   "metadata": {},
   "outputs": [],
   "source": [
    "rnn_model = Sequential([\n",
    "    Embedding(input_dim=voc_size, input_length = max_len, output_dim=128),\n",
    "    SimpleRNN(64, return_sequences=False),\n",
    "    Dropout(0.5),\n",
    "    Dense(32, activation='relu'),\n",
    "    Dense(1, activation='sigmoid')\n",
    "])"
   ]
  },
  {
   "cell_type": "code",
   "execution_count": 34,
   "id": "13b67b50",
   "metadata": {},
   "outputs": [],
   "source": [
    "early_stopping= EarlyStopping(monitor = 'val_loss', patience=3, restore_best_weights=True,)"
   ]
  },
  {
   "cell_type": "code",
   "execution_count": null,
   "id": "8b147840",
   "metadata": {},
   "outputs": [
    {
     "name": "stdout",
     "output_type": "stream",
     "text": [
      "Epoch 1/30\n",
      "\u001b[1m821/821\u001b[0m \u001b[32m━━━━━━━━━━━━━━━━━━━━\u001b[0m\u001b[37m\u001b[0m \u001b[1m29s\u001b[0m 23ms/step - accuracy: 0.5235 - loss: 0.6927 - val_accuracy: 0.5625 - val_loss: 0.6728\n",
      "Epoch 2/30\n",
      "\u001b[1m821/821\u001b[0m \u001b[32m━━━━━━━━━━━━━━━━━━━━\u001b[0m\u001b[37m\u001b[0m \u001b[1m24s\u001b[0m 30ms/step - accuracy: 0.5394 - loss: 0.6915 - val_accuracy: 0.5524 - val_loss: 0.6749\n",
      "Epoch 3/30\n",
      "\u001b[1m821/821\u001b[0m \u001b[32m━━━━━━━━━━━━━━━━━━━━\u001b[0m\u001b[37m\u001b[0m \u001b[1m19s\u001b[0m 23ms/step - accuracy: 0.6169 - loss: 0.6156 - val_accuracy: 0.6533 - val_loss: 0.6302\n",
      "Epoch 4/30\n",
      "\u001b[1m821/821\u001b[0m \u001b[32m━━━━━━━━━━━━━━━━━━━━\u001b[0m\u001b[37m\u001b[0m \u001b[1m20s\u001b[0m 24ms/step - accuracy: 0.6528 - loss: 0.5776 - val_accuracy: 0.5611 - val_loss: 0.7236\n",
      "Epoch 5/30\n",
      "\u001b[1m821/821\u001b[0m \u001b[32m━━━━━━━━━━━━━━━━━━━━\u001b[0m\u001b[37m\u001b[0m \u001b[1m19s\u001b[0m 23ms/step - accuracy: 0.6552 - loss: 0.5356 - val_accuracy: 0.5685 - val_loss: 0.7773\n",
      "Epoch 6/30\n",
      "\u001b[1m821/821\u001b[0m \u001b[32m━━━━━━━━━━━━━━━━━━━━\u001b[0m\u001b[37m\u001b[0m \u001b[1m20s\u001b[0m 24ms/step - accuracy: 0.6781 - loss: 0.5052 - val_accuracy: 0.5724 - val_loss: 0.8602\n"
     ]
    }
   ],
   "source": [
    "rnn_model.compile(optimizer='Adam', loss='binary_crossentropy', metrics=['accuracy'])\n",
    "rnn_history = rnn_model.fit(x_train, y_train, batch_size=128, epochs=15, validation_split = 0.20, callbacks=[early_stopping])"
   ]
  },
  {
   "cell_type": "code",
   "execution_count": 42,
   "id": "ffcd2507",
   "metadata": {},
   "outputs": [
    {
     "name": "stdout",
     "output_type": "stream",
     "text": [
      "RNN model training visualisation\n"
     ]
    },
    {
     "data": {
      "image/png": "[encoded data removed]",
      "text/plain": [
       "<Figure size 800x400 with 1 Axes>"
      ]
     },
     "metadata": {},
     "output_type": "display_data"
    },
    {
     "data": {
      "image/png": "[encoded data removed]",
      "text/plain": [
       "<Figure size 800x400 with 1 Axes>"
      ]
     },
     "metadata": {},
     "output_type": "display_data"
    }
   ],
   "source": [
    "# visualizing the training loss, accuracy vs validation loss and accuracy\n",
    "\n",
    "import matplotlib.pyplot as plt\n",
    "\n",
    "\n",
    "print('RNN model training visualisation')\n",
    "\n",
    "plt.figure(figsize=(8, 4))\n",
    "\n",
    "plt.title('Training vs validation accuracy')\n",
    "plt.plot(rnn_history.history['accuracy'], label = 'Training accuracy')\n",
    "plt.plot(rnn_history.history['val_accuracy'], label= 'Validation accuracy')\n",
    "plt.xlabel('Epochs')\n",
    "plt.ylabel('Accuracy')\n",
    "plt.grid()\n",
    "plt.legend()\n",
    "plt.show()\n",
    "\n",
    "\n",
    "plt.figure(figsize=(8, 4))\n",
    "plt.title('Training vs Validation loss')\n",
    "plt.plot(rnn_history.history['loss'], label='Training loss')\n",
    "plt.plot(rnn_history.history['val_loss'], label= 'Validation loss')\n",
    "plt.xlabel('Epochs')\n",
    "plt.ylabel('loss')\n",
    "plt.legend()\n",
    "plt.grid()\n",
    "plt.show()\n"
   ]
  },
  {
   "cell_type": "code",
   "execution_count": 47,
   "id": "0a12fe06",
   "metadata": {},
   "outputs": [],
   "source": [
    "lstm_model = Sequential([\n",
    "    Embedding(input_dim=voc_size, output_dim= 256, input_length = max_len),\n",
    "    LSTM(units=128, return_sequences=False),\n",
    "    Dropout(0.2),\n",
    "    Dense(64, activation='relu'),\n",
    "    Dense(32, activation='relu'),\n",
    "    Dense(16, activation='relu'),\n",
    "    Dense(1, activation='sigmoid')\n",
    "])"
   ]
  },
  {
   "cell_type": "code",
   "execution_count": 48,
   "id": "f9044e86",
   "metadata": {},
   "outputs": [
    {
     "name": "stdout",
     "output_type": "stream",
     "text": [
      "Epoch 1/10\n",
      "\u001b[1m3282/3282\u001b[0m \u001b[32m━━━━━━━━━━━━━━━━━━━━\u001b[0m\u001b[37m\u001b[0m \u001b[1m116s\u001b[0m 35ms/step - accuracy: 0.6153 - loss: 0.6051 - val_accuracy: 0.8961 - val_loss: 0.2546\n",
      "Epoch 2/10\n",
      "\u001b[1m3282/3282\u001b[0m \u001b[32m━━━━━━━━━━━━━━━━━━━━\u001b[0m\u001b[37m\u001b[0m \u001b[1m121s\u001b[0m 37ms/step - accuracy: 0.9177 - loss: 0.2113 - val_accuracy: 0.9096 - val_loss: 0.2250\n",
      "Epoch 3/10\n",
      "\u001b[1m3282/3282\u001b[0m \u001b[32m━━━━━━━━━━━━━━━━━━━━\u001b[0m\u001b[37m\u001b[0m \u001b[1m146s\u001b[0m 44ms/step - accuracy: 0.9442 - loss: 0.1501 - val_accuracy: 0.9211 - val_loss: 0.2152\n",
      "Epoch 4/10\n",
      "\u001b[1m3282/3282\u001b[0m \u001b[32m━━━━━━━━━━━━━━━━━━━━\u001b[0m\u001b[37m\u001b[0m \u001b[1m119s\u001b[0m 36ms/step - accuracy: 0.9618 - loss: 0.1085 - val_accuracy: 0.9216 - val_loss: 0.2314\n",
      "Epoch 5/10\n",
      "\u001b[1m3282/3282\u001b[0m \u001b[32m━━━━━━━━━━━━━━━━━━━━\u001b[0m\u001b[37m\u001b[0m \u001b[1m142s\u001b[0m 43ms/step - accuracy: 0.9742 - loss: 0.0761 - val_accuracy: 0.9219 - val_loss: 0.2471\n",
      "Epoch 6/10\n",
      "\u001b[1m3282/3282\u001b[0m \u001b[32m━━━━━━━━━━━━━━━━━━━━\u001b[0m\u001b[37m\u001b[0m \u001b[1m115s\u001b[0m 35ms/step - accuracy: 0.9827 - loss: 0.0539 - val_accuracy: 0.9212 - val_loss: 0.2692\n"
     ]
    }
   ],
   "source": [
    "lstm_model.compile(optimizer='Adam', loss='binary_crossentropy', metrics=['accuracy'])\n",
    "lstm_history = lstm_model.fit(x_train, y_train, validation_split = 0.20, callbacks=[early_stopping], epochs=10)"
   ]
  },
  {
   "cell_type": "code",
   "execution_count": 50,
   "id": "c1eaf2f6",
   "metadata": {},
   "outputs": [
    {
     "name": "stdout",
     "output_type": "stream",
     "text": [
      "RNN model perfomance: [0.6277696490287781, 0.6543349027633667]\n"
     ]
    }
   ],
   "source": [
    "print(f'RNN model perfomance: {rnn_model.evaluate(x_test, y_test, verbose=0)}')"
   ]
  },
  {
   "cell_type": "code",
   "execution_count": 51,
   "id": "eeda3b65",
   "metadata": {},
   "outputs": [
    {
     "name": "stdout",
     "output_type": "stream",
     "text": [
      "LSTM model perfomance: [0.20721635222434998, 0.9227487444877625]\n"
     ]
    }
   ],
   "source": [
    "print(f'LSTM model perfomance: {lstm_model.evaluate(x_test, y_test, verbose=0)}')"
   ]
  },
  {
   "cell_type": "code",
   "execution_count": 57,
   "id": "19122808",
   "metadata": {},
   "outputs": [
    {
     "name": "stdout",
     "output_type": "stream",
     "text": [
      "\u001b[1m1026/1026\u001b[0m \u001b[32m━━━━━━━━━━━━━━━━━━━━\u001b[0m\u001b[37m\u001b[0m \u001b[1m11s\u001b[0m 11ms/step\n"
     ]
    }
   ],
   "source": [
    "y_pred = lstm_model.predict(x_test) \n",
    "y_pred_class = [1 if prob >= 0.5 else 0 for prob in y_pred]"
   ]
  },
  {
   "cell_type": "code",
   "execution_count": 59,
   "id": "f0e24c45",
   "metadata": {},
   "outputs": [
    {
     "data": {
      "text/plain": [
       "array([[15253,  1155],\n",
       "       [ 1380, 15027]])"
      ]
     },
     "execution_count": 59,
     "metadata": {},
     "output_type": "execute_result"
    }
   ],
   "source": [
    "cm = confusion_matrix(y_test, y_pred_class)\n",
    "cm"
   ]
  },
  {
   "cell_type": "code",
   "execution_count": 61,
   "id": "50029b0f",
   "metadata": {},
   "outputs": [
    {
     "name": "stdout",
     "output_type": "stream",
     "text": [
      "              precision    recall  f1-score   support\n",
      "\n",
      "           0       0.92      0.93      0.92     16408\n",
      "           1       0.93      0.92      0.92     16407\n",
      "\n",
      "    accuracy                           0.92     32815\n",
      "   macro avg       0.92      0.92      0.92     32815\n",
      "weighted avg       0.92      0.92      0.92     32815\n",
      "\n"
     ]
    }
   ],
   "source": [
    "print(classification_report(y_test ,y_pred_class))"
   ]
  },
  {
   "cell_type": "code",
   "execution_count": null,
   "id": "9746a921",
   "metadata": {},
   "outputs": [],
   "source": []
  }
 ],
 "metadata": {
  "kernelspec": {
   "display_name": "tf-env",
   "language": "python",
   "name": "python3"
  },
  "language_info": {
   "codemirror_mode": {
    "name": "ipython",
    "version": 3
   },
   "file_extension": ".py",
   "mimetype": "text/x-python",
   "name": "python",
   "nbconvert_exporter": "python",
   "pygments_lexer": "ipython3",
   "version": "3.10.18"
  }
 },
 "nbformat": 4,
 "nbformat_minor": 5
}
